{
 "cells": [
  {
   "cell_type": "markdown",
   "metadata": {},
   "source": [
    "# First Steps in finetuning with open ai\n",
    "\n",
    "#### Updates\n",
    "\n",
    "* 20231109 updated to use new 1.x api\n",
    "* 20231109 uses the BAS dataset"
   ]
  },
  {
   "cell_type": "code",
   "execution_count": 1,
   "metadata": {},
   "outputs": [],
   "source": [
    "# Import the os package\n",
    "import os\n",
    "\n",
    "\n",
    "# Imports via openai docs\n",
    "from pathlib import Path\n",
    "from openai import OpenAI\n",
    "\n",
    "\n",
    "# import the dotenv package\n",
    "from dotenv import load_dotenv\n",
    "\n",
    "import pprint\n",
    "\n",
    "# From the IPython.display package, import display and Markdown\n",
    "from IPython.display import display, Markdown\n",
    "\n"
   ]
  },
  {
   "cell_type": "code",
   "execution_count": 2,
   "metadata": {},
   "outputs": [
    {
     "data": {
      "text/plain": [
       "True"
      ]
     },
     "execution_count": 2,
     "metadata": {},
     "output_type": "execute_result"
    }
   ],
   "source": [
    "# Get the current working directory\n",
    "cwd = os.getcwd()\n",
    "# Construct the .env file path\n",
    "env_path = os.path.join(cwd, '.env')\n",
    "\n",
    "# Load the .env file\n",
    "load_dotenv(dotenv_path=env_path)"
   ]
  },
  {
   "cell_type": "code",
   "execution_count": 3,
   "metadata": {},
   "outputs": [],
   "source": [
    "# Set openai.api_key to the OPENAI environment variable\n",
    "OPENAI_API_KEY = os.environ[\"OPENAI_API_KEY\"]\n"
   ]
  },
  {
   "cell_type": "markdown",
   "metadata": {},
   "source": [
    "# specify the key and init the client"
   ]
  },
  {
   "cell_type": "code",
   "execution_count": 4,
   "metadata": {},
   "outputs": [],
   "source": [
    "client = OpenAI()\n",
    "client.api_key=OPENAI_API_KEY"
   ]
  },
  {
   "cell_type": "markdown",
   "metadata": {},
   "source": [
    "# Determine the OpenAI API version"
   ]
  },
  {
   "cell_type": "code",
   "execution_count": 5,
   "metadata": {},
   "outputs": [],
   "source": [
    "# from chatGPT when asked how to query api version,\n",
    "# which sadly does not work since the model was trained\n",
    "# before the api changed - I can only assume.\n",
    "\n",
    "#import openai\n",
    "#openai.api_key=OPENAI_API_KEY\n",
    "# To get the API version, you would typically make an API call\n",
    "# and the version would be included in the response headers.\n",
    "# For example, you could list the available engines and check the headers:\n",
    "#response = openai.Engine.list()\n",
    "\n",
    "# The API version would be in the response headers if available\n",
    "#api_version = response.headers.get('OpenAI-Api-Version')\n",
    "\n",
    "#print(api_version)"
   ]
  },
  {
   "cell_type": "markdown",
   "metadata": {},
   "source": [
    "# Sanity check\n",
    "Verify API key and network allows usage of the openAI API"
   ]
  },
  {
   "cell_type": "code",
   "execution_count": 7,
   "metadata": {},
   "outputs": [],
   "source": [
    "# Define the system message\n",
    "system_msg = 'You are a helpful assistant who understands data science.'\n",
    "\n",
    "# Define the user message\n",
    "user_msg = 'Create a small dataset of data about people. The format of the dataset should be a data frame with 5 rows and 3 columns. The columns should be called \"name\", \"height_cm\", and \"eye_color\". The \"name\" column should contain randomly chosen first names. The \"height_cm\" column should contain randomly chosen heights, given in centimeters. The \"eye_color\" column should contain randomly chosen eye colors, taken from a choice of \"brown\", \"blue\", and \"green\". Provide Python code to generate the dataset, then provide the output in the format of a markdown table.'\n",
    "\n",
    "\n",
    "\n",
    "# Create a dataset using GPT\n",
    "response = client.chat.completions.create(\n",
    "    model=\"gpt-3.5-turbo-0613\",\n",
    "    messages=[\n",
    "        {\"role\": \"system\", \"content\": system_msg},\n",
    "        {\"role\": \"user\", \"content\": user_msg}\n",
    "    ]\n",
    ")"
   ]
  },
  {
   "cell_type": "code",
   "execution_count": 8,
   "metadata": {},
   "outputs": [
    {
     "data": {
      "text/plain": [
       "'stop'"
      ]
     },
     "execution_count": 8,
     "metadata": {},
     "output_type": "execute_result"
    }
   ],
   "source": [
    "response.choices[0].finish_reason\n",
    "#response[\"choices\"]"
   ]
  },
  {
   "cell_type": "code",
   "execution_count": 9,
   "metadata": {},
   "outputs": [
    {
     "data": {
      "text/plain": [
       "\"Here is the Python code to generate the dataset:\\n\\n```python\\nimport pandas as pd\\nimport random\\n\\ndata = {\\n    'name': ['John', 'Emma', 'Michael', 'Sophia', 'William'],\\n    'height_cm': [random.randint(150, 190) for _ in range(5)],\\n    'eye_color': random.choices(['brown', 'blue', 'green'], k=5)\\n}\\n\\ndf = pd.DataFrame(data)\\n```\\n\\nAnd here is the output in the format of a markdown table:\\n\\n|    name   | height_cm | eye_color |\\n|:---------:|:---------:|:---------:|\\n|   John    |    182    |   green   |\\n|   Emma    |    170    |   brown   |\\n|  Michael  |    156    |   blue    |\\n|   Sophia  |    181    |   blue    |\\n|  William  |    178    |   brown   |\""
      ]
     },
     "execution_count": 9,
     "metadata": {},
     "output_type": "execute_result"
    }
   ],
   "source": [
    "response.choices[0].message.content"
   ]
  },
  {
   "cell_type": "code",
   "execution_count": null,
   "metadata": {},
   "outputs": [],
   "source": []
  },
  {
   "cell_type": "code",
   "execution_count": null,
   "metadata": {},
   "outputs": [],
   "source": []
  },
  {
   "cell_type": "markdown",
   "metadata": {},
   "source": [
    "# Upload a file for model tuning"
   ]
  },
  {
   "cell_type": "code",
   "execution_count": 11,
   "metadata": {},
   "outputs": [
    {
     "name": "stdout",
     "output_type": "stream",
     "text": [
      "current directory is : /workspaces/BALSA/notebooks\n",
      "root directory is:  /workspaces/BALSA\n",
      "data directory is:  /workspaces/BALSA/data\n",
      "logs directory is:  /workspaces/BALSA/logs\n",
      "DATA_DIR_NAME:  /workspaces/BALSA/data\n"
     ]
    }
   ],
   "source": [
    "import pathlib\n",
    "dirpath = os.getcwd()\n",
    "print(\"current directory is : \" + dirpath)\n",
    "# Use pathlib to find the root dir of the git repo\n",
    "root_path = pathlib.PurePath(dirpath).parents[0]\n",
    "data_path = root_path / 'data'\n",
    "logs_path = root_path / 'logs'\n",
    "print(\"root directory is: \", root_path)\n",
    "print(\"data directory is: \",  data_path)\n",
    "print(\"logs directory is: \", logs_path)\n",
    "# Create equivalent dir names in the environment\n",
    "# Logs\n",
    "#LOGS_DIR_NAME = logs_path.as_posix()\n",
    "#print(\"LOGS_DIR_NAME: \", LOGS_DIR_NAME)\n",
    "#os.environ['LOGS_DIR_NAME'] = LOGS_DIR_NAME\n",
    "# Data\n",
    "DATA_DIR_NAME = data_path.as_posix()\n",
    "print(\"DATA_DIR_NAME: \", DATA_DIR_NAME)\n",
    "os.environ['DATA_DIR_NAME'] = DATA_DIR_NAME"
   ]
  },
  {
   "cell_type": "code",
   "execution_count": 15,
   "metadata": {},
   "outputs": [
    {
     "data": {
      "text/plain": [
       "PurePosixPath('/workspaces/BALSA/data/sample.jsonl')"
      ]
     },
     "execution_count": 15,
     "metadata": {},
     "output_type": "execute_result"
    }
   ],
   "source": [
    "IN_FQPN = data_path / pathlib.PurePath(\"sample.jsonl\").as_posix()\n",
    "IN_FQPN"
   ]
  },
  {
   "cell_type": "code",
   "execution_count": 16,
   "metadata": {},
   "outputs": [
    {
     "name": "stdout",
     "output_type": "stream",
     "text": [
      "FileObject(id='file-HQqakeKHnHi4YFtdZJwGIEM6', bytes=16635, created_at=1699542197, filename='sample.jsonl', object='file', purpose='fine-tune', status='processed', status_details=None)\n"
     ]
    }
   ],
   "source": [
    "\n",
    "response = client.files.create(\n",
    "    file=Path(IN_FQPN),\n",
    "    purpose=\"fine-tune\",\n",
    ")\n",
    "\n",
    "print(response)"
   ]
  },
  {
   "cell_type": "code",
   "execution_count": 18,
   "metadata": {},
   "outputs": [
    {
     "name": "stdout",
     "output_type": "stream",
     "text": [
      "file-HQqakeKHnHi4YFtdZJwGIEM6\n"
     ]
    }
   ],
   "source": [
    "print(response.id)\n",
    "myfile_id = response.id"
   ]
  },
  {
   "cell_type": "markdown",
   "metadata": {},
   "source": [
    "# Actual fine tune of a model"
   ]
  },
  {
   "cell_type": "code",
   "execution_count": 19,
   "metadata": {},
   "outputs": [
    {
     "name": "stdout",
     "output_type": "stream",
     "text": [
      "FineTuningJob(id='ftjob-tiO093t5fl5O8e0uqfjVhaHZ', created_at=1699542233, error=None, fine_tuned_model=None, finished_at=None, hyperparameters=Hyperparameters(n_epochs='auto', batch_size='auto', learning_rate_multiplier='auto'), model='gpt-3.5-turbo-0613', object='fine_tuning.job', organization_id='org-kHUq2JzdiW8FIDxqE01bYdot', result_files=[], status='validating_files', trained_tokens=None, training_file='file-HQqakeKHnHi4YFtdZJwGIEM6', validation_file=None)\n"
     ]
    }
   ],
   "source": [
    "# create a new fine tuning model \n",
    "file_id = myfile_id\n",
    "# recommended fine tuning model\n",
    "model=\"gpt-3.5-turbo-0613\"\n",
    "# model used by Gregory Bauges\n",
    "#model=\"gpt-3.5-turbo\"\n",
    "\n",
    "response = client.fine_tuning.jobs.create(\n",
    "  training_file=file_id, \n",
    "  model=model\n",
    ")\n",
    "print(response)"
   ]
  },
  {
   "cell_type": "code",
   "execution_count": 32,
   "metadata": {},
   "outputs": [
    {
     "name": "stdout",
     "output_type": "stream",
     "text": [
      "file-HQqakeKHnHi4YFtdZJwGIEM6\n",
      "yes\n",
      "file-S22pfJMZv7asuZNoMlrElq6T\n",
      "file-RltDbgHjpQ9qANthDCvqJQkO\n",
      "file-6n4dELlk1gyh7brCV8iulYMW\n",
      "file-VCM3q5sZByfXopxM9v2SdoaF\n",
      "file-y5huqBR8UUOwvkmMEJuLwscs\n"
     ]
    }
   ],
   "source": [
    "# List 10 fine-tuning jobs\n",
    "#pprint.pprint(client.fine_tuning.jobs.list(limit=10))\n",
    "result = client.fine_tuning.jobs.list(limit=10)\n",
    "for a_job in result.data:\n",
    "    # print the jobs raw\n",
    "    #pprint.pprint(a_job)\n",
    "    # print just the file for a job\n",
    "    print(a_job.training_file)\n",
    "    # simple test to see if our tune job is in top ten based upon fileid\n",
    "    if myfile_id == a_job.training_file:\n",
    "        print(\"yes\")\n",
    "\n",
    "\n",
    "\n",
    "\n",
    "# Retrieve the state of a fine-tune\n",
    "#client.fine_tuning.jobs.retrieve(\"ftjob-abc123\")\n",
    "\n",
    "# Cancel a job\n",
    "#client.fine_tuning.jobs.cancel(\"ftjob-abc123\")\n",
    "\n",
    "# List up to 10 events from a fine-tuning job\n",
    "#client.fine_tuning.jobs.list_events(id=\"ftjob-abc123\", limit=10)\n",
    "\n",
    "# Delete a fine-tuned model (must be an owner of the org the model was created in)\n",
    "#client.models.delete(\"ft:gpt-3.5-turbo:acemeco:suffix:abc123\")"
   ]
  },
  {
   "cell_type": "code",
   "execution_count": null,
   "metadata": {},
   "outputs": [],
   "source": []
  },
  {
   "cell_type": "markdown",
   "metadata": {},
   "source": [
    "# Lets try to use it"
   ]
  },
  {
   "cell_type": "code",
   "execution_count": 8,
   "metadata": {},
   "outputs": [
    {
     "name": "stdout",
     "output_type": "stream",
     "text": [
      "sarcastic\n"
     ]
    }
   ],
   "source": [
    "#our_mode = \"normal\"\n",
    "our_mode = \"bas\"\n",
    "\n",
    "# dependency analytics disazble for syntax\n",
    "# default model\n",
    "default_model=\"gpt-3.5-turbo-0613\"\n",
    "# our tuned model\n",
    "# Chelsea model #1\n",
    "#our_model=\"ft:gpt-3.5-turbo-0613:personal::8DvbJsff\"\n",
    "# Chelsea model #2\n",
    "#our_model=\"ft:gpt-3.5-turbo-0613:personal::8IV7laj9\"\n",
    "# bas model #2\n",
    "tuned_model=\"ft:gpt-3.5-turbo-0613:personal::8IV7laj9\"\n",
    "\n",
    "\n",
    "if our_mode == \"normal\":\n",
    "    print(\"normal\")\n",
    "    # stock model\n",
    "    our_model=default_model\n",
    "    # Define the system message\n",
    "    system_msg = 'You are a helpful assistant who understands programming in assembly.'\n",
    "    # Define the user message\n",
    "    user_msg = 'Provide an example of how to add two numbers in assembly.'\n",
    "else:\n",
    "    print(\"tuned\")\n",
    "    # tuned model\n",
    "    our_model=tuned_model\n",
    "   # Define the system message\n",
    "    system_msg = 'You are a helpful assistant who understands programming in BAL assembly.'\n",
    "    # Define the user message\n",
    "    user_msg = 'Provide an explanation of the Divide instruction using negative numbers in BAS.'\n",
    "\n",
    "\n",
    "\n",
    "\n",
    "\n",
    "\n",
    "# Create a dataset using GPT\n",
    "response = client.chat.completions.create(\n",
    "    model=our_model,\n",
    "    messages=[\n",
    "        {\"role\": \"system\", \"content\": system_msg},\n",
    "        {\"role\": \"user\", \"content\": user_msg}\n",
    "    ]\n",
    ")"
   ]
  },
  {
   "cell_type": "code",
   "execution_count": 9,
   "metadata": {},
   "outputs": [
    {
     "name": "stdout",
     "output_type": "stream",
     "text": [
      "finish_reason:  stop\n",
      "conten:  About five minutes walk.\n"
     ]
    }
   ],
   "source": [
    "print(\"finish_reason: \", response.choices[0].finish_reason)\n",
    "print(\"conten: \", response.choices[0].message.content)"
   ]
  },
  {
   "cell_type": "code",
   "execution_count": null,
   "metadata": {},
   "outputs": [],
   "source": []
  },
  {
   "cell_type": "code",
   "execution_count": null,
   "metadata": {},
   "outputs": [],
   "source": []
  }
 ],
 "metadata": {
  "kernelspec": {
   "display_name": ".venv",
   "language": "python",
   "name": "python3"
  },
  "language_info": {
   "codemirror_mode": {
    "name": "ipython",
    "version": 3
   },
   "file_extension": ".py",
   "mimetype": "text/x-python",
   "name": "python",
   "nbconvert_exporter": "python",
   "pygments_lexer": "ipython3",
   "version": "3.10.8"
  }
 },
 "nbformat": 4,
 "nbformat_minor": 2
}
